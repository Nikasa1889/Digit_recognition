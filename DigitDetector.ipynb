{
 "cells": [
  {
   "cell_type": "code",
   "execution_count": 1,
   "metadata": {
    "collapsed": false,
    "scrolled": true
   },
   "outputs": [
    {
     "name": "stderr",
     "output_type": "stream",
     "text": [
      "/home/nikasa/anaconda2/lib/python2.7/site-packages/matplotlib/font_manager.py:273: UserWarning: Matplotlib is building the font cache using fc-list. This may take a moment.\n",
      "  warnings.warn('Matplotlib is building the font cache using fc-list. This may take a moment.')\n",
      "Using gpu device 0: GeForce GTX TITAN X (CNMeM is disabled, CuDNN not available)\n"
     ]
    },
    {
     "ename": "AttributeError",
     "evalue": "'NoneType' object has no attribute 'copy'",
     "output_type": "error",
     "traceback": [
      "\u001b[1;31m---------------------------------------------------------------------------\u001b[0m",
      "\u001b[1;31mAttributeError\u001b[0m                            Traceback (most recent call last)",
      "\u001b[1;32m<ipython-input-1-973f4e07a904>\u001b[0m in \u001b[0;36m<module>\u001b[1;34m()\u001b[0m\n\u001b[0;32m    122\u001b[0m \u001b[1;33m\u001b[0m\u001b[0m\n\u001b[0;32m    123\u001b[0m \u001b[0mtest_image\u001b[0m \u001b[1;33m=\u001b[0m \u001b[0mcv2\u001b[0m\u001b[1;33m.\u001b[0m\u001b[0mimread\u001b[0m\u001b[1;33m(\u001b[0m\u001b[1;34m'C:/Users/k/Google Drive/eSmart/Experiment/DigitRecognition/digit_recognition/Fail Images/201612-1454432228873.jpg'\u001b[0m\u001b[1;33m)\u001b[0m\u001b[1;33m\u001b[0m\u001b[0m\n\u001b[1;32m--> 124\u001b[1;33m \u001b[0mdetect_digits\u001b[0m\u001b[1;33m(\u001b[0m\u001b[0mtest_image\u001b[0m\u001b[1;33m)\u001b[0m\u001b[1;33m.\u001b[0m\u001b[0mdisplay\u001b[0m\u001b[1;33m(\u001b[0m\u001b[1;33m)\u001b[0m\u001b[1;33m\u001b[0m\u001b[0m\n\u001b[0m\u001b[0;32m    125\u001b[0m \u001b[1;32mprint\u001b[0m \u001b[1;34m'Done'\u001b[0m\u001b[1;33m\u001b[0m\u001b[0m\n\u001b[0;32m    126\u001b[0m \u001b[0mcontinue_from_file\u001b[0m \u001b[1;33m=\u001b[0m \u001b[1;34m'Davide take 2.jpg'\u001b[0m\u001b[1;33m\u001b[0m\u001b[0m\n",
      "\u001b[1;32m<ipython-input-1-973f4e07a904>\u001b[0m in \u001b[0;36mdetect_digits\u001b[1;34m(image)\u001b[0m\n\u001b[0;32m     89\u001b[0m              ] \n\u001b[0;32m     90\u001b[0m         \u001b[0mdigitDetector\u001b[0m \u001b[1;33m=\u001b[0m \u001b[0mProcessorStack\u001b[0m\u001b[1;33m(\u001b[0m\u001b[0mdigitDetectorStack\u001b[0m\u001b[1;33m)\u001b[0m\u001b[1;33m\u001b[0m\u001b[0m\n\u001b[1;32m---> 91\u001b[1;33m         \u001b[0mdigitDetector\u001b[0m\u001b[1;33m.\u001b[0m\u001b[0mprocess\u001b[0m\u001b[1;33m(\u001b[0m\u001b[0mimage\u001b[0m\u001b[1;33m)\u001b[0m\u001b[1;33m\u001b[0m\u001b[0m\n\u001b[0m\u001b[0;32m     92\u001b[0m         \u001b[1;31m#digitDetector.display()\u001b[0m\u001b[1;33m\u001b[0m\u001b[1;33m\u001b[0m\u001b[0m\n\u001b[0;32m     93\u001b[0m         \u001b[0moutput\u001b[0m \u001b[1;33m=\u001b[0m \u001b[0mdigitDetector\u001b[0m\u001b[1;33m.\u001b[0m\u001b[0mget_output\u001b[0m\u001b[1;33m(\u001b[0m\u001b[1;33m)\u001b[0m\u001b[1;33m\u001b[0m\u001b[0m\n",
      "\u001b[1;32m/home/nikasa/digit_recognition/processor.pyc\u001b[0m in \u001b[0;36mprocess\u001b[1;34m(self, image, **args)\u001b[0m\n\u001b[0;32m     30\u001b[0m             \u001b[1;32mfor\u001b[0m \u001b[0mprehook\u001b[0m \u001b[1;32min\u001b[0m \u001b[0mself\u001b[0m\u001b[1;33m.\u001b[0m\u001b[0m_prehooks\u001b[0m\u001b[1;33m:\u001b[0m\u001b[1;33m\u001b[0m\u001b[0m\n\u001b[0;32m     31\u001b[0m                 \u001b[0mprehook\u001b[0m\u001b[1;33m(\u001b[0m \u001b[0mself\u001b[0m \u001b[1;33m)\u001b[0m\u001b[1;33m\u001b[0m\u001b[0m\n\u001b[1;32m---> 32\u001b[1;33m         \u001b[0mimage_out\u001b[0m\u001b[1;33m,\u001b[0m \u001b[0margs_out\u001b[0m\u001b[1;33m=\u001b[0m \u001b[0mself\u001b[0m\u001b[1;33m.\u001b[0m\u001b[0m_process\u001b[0m\u001b[1;33m(\u001b[0m\u001b[0mimage\u001b[0m\u001b[1;33m,\u001b[0m \u001b[1;33m**\u001b[0m\u001b[0margs\u001b[0m\u001b[1;33m)\u001b[0m\u001b[1;33m\u001b[0m\u001b[0m\n\u001b[0m\u001b[0;32m     33\u001b[0m         \u001b[0mself\u001b[0m\u001b[1;33m.\u001b[0m\u001b[0m_output\u001b[0m\u001b[1;33m=\u001b[0m \u001b[0mmerge_dicts\u001b[0m\u001b[1;33m(\u001b[0m\u001b[1;33m{\u001b[0m\u001b[1;34m'image'\u001b[0m\u001b[1;33m:\u001b[0m\u001b[0mimage_out\u001b[0m\u001b[1;33m}\u001b[0m\u001b[1;33m,\u001b[0m \u001b[0margs_out\u001b[0m\u001b[1;33m)\u001b[0m\u001b[1;33m\u001b[0m\u001b[0m\n\u001b[0;32m     34\u001b[0m         \u001b[1;32mif\u001b[0m \u001b[0mhasattr\u001b[0m\u001b[1;33m(\u001b[0m\u001b[0mself\u001b[0m\u001b[1;33m,\u001b[0m \u001b[1;34m'_poshooks'\u001b[0m\u001b[1;33m)\u001b[0m\u001b[1;33m:\u001b[0m\u001b[1;33m\u001b[0m\u001b[0m\n",
      "\u001b[1;32m/home/nikasa/digit_recognition/processor_stack.pyc\u001b[0m in \u001b[0;36m_process\u001b[1;34m(self, image, **args)\u001b[0m\n\u001b[0;32m     16\u001b[0m     \u001b[1;32mdef\u001b[0m \u001b[0m_process\u001b[0m\u001b[1;33m(\u001b[0m \u001b[0mself\u001b[0m\u001b[1;33m,\u001b[0m \u001b[0mimage\u001b[0m\u001b[1;33m,\u001b[0m \u001b[1;33m**\u001b[0m\u001b[0margs\u001b[0m \u001b[1;33m)\u001b[0m\u001b[1;33m:\u001b[0m\u001b[1;33m\u001b[0m\u001b[0m\n\u001b[0;32m     17\u001b[0m         \u001b[1;32mfor\u001b[0m \u001b[0mp\u001b[0m \u001b[1;32min\u001b[0m \u001b[0mself\u001b[0m\u001b[1;33m.\u001b[0m\u001b[0mprocessors\u001b[0m\u001b[1;33m:\u001b[0m\u001b[1;33m\u001b[0m\u001b[0m\n\u001b[1;32m---> 18\u001b[1;33m             \u001b[0mimage\u001b[0m\u001b[1;33m,\u001b[0m \u001b[0margs\u001b[0m\u001b[1;33m=\u001b[0m \u001b[0mp\u001b[0m\u001b[1;33m.\u001b[0m\u001b[0mprocess\u001b[0m\u001b[1;33m(\u001b[0m \u001b[0mimage\u001b[0m\u001b[1;33m,\u001b[0m \u001b[1;33m**\u001b[0m\u001b[0margs\u001b[0m \u001b[1;33m)\u001b[0m\u001b[1;33m\u001b[0m\u001b[0m\n\u001b[0m\u001b[0;32m     19\u001b[0m         \u001b[1;32mreturn\u001b[0m \u001b[1;33m(\u001b[0m\u001b[0mimage\u001b[0m\u001b[1;33m,\u001b[0m \u001b[0margs\u001b[0m\u001b[1;33m)\u001b[0m\u001b[1;33m\u001b[0m\u001b[0m\n\u001b[0;32m     20\u001b[0m \u001b[1;33m\u001b[0m\u001b[0m\n",
      "\u001b[1;32m/home/nikasa/digit_recognition/processor.pyc\u001b[0m in \u001b[0;36mprocess\u001b[1;34m(self, image, **args)\u001b[0m\n\u001b[0;32m     30\u001b[0m             \u001b[1;32mfor\u001b[0m \u001b[0mprehook\u001b[0m \u001b[1;32min\u001b[0m \u001b[0mself\u001b[0m\u001b[1;33m.\u001b[0m\u001b[0m_prehooks\u001b[0m\u001b[1;33m:\u001b[0m\u001b[1;33m\u001b[0m\u001b[0m\n\u001b[0;32m     31\u001b[0m                 \u001b[0mprehook\u001b[0m\u001b[1;33m(\u001b[0m \u001b[0mself\u001b[0m \u001b[1;33m)\u001b[0m\u001b[1;33m\u001b[0m\u001b[0m\n\u001b[1;32m---> 32\u001b[1;33m         \u001b[0mimage_out\u001b[0m\u001b[1;33m,\u001b[0m \u001b[0margs_out\u001b[0m\u001b[1;33m=\u001b[0m \u001b[0mself\u001b[0m\u001b[1;33m.\u001b[0m\u001b[0m_process\u001b[0m\u001b[1;33m(\u001b[0m\u001b[0mimage\u001b[0m\u001b[1;33m,\u001b[0m \u001b[1;33m**\u001b[0m\u001b[0margs\u001b[0m\u001b[1;33m)\u001b[0m\u001b[1;33m\u001b[0m\u001b[0m\n\u001b[0m\u001b[0;32m     33\u001b[0m         \u001b[0mself\u001b[0m\u001b[1;33m.\u001b[0m\u001b[0m_output\u001b[0m\u001b[1;33m=\u001b[0m \u001b[0mmerge_dicts\u001b[0m\u001b[1;33m(\u001b[0m\u001b[1;33m{\u001b[0m\u001b[1;34m'image'\u001b[0m\u001b[1;33m:\u001b[0m\u001b[0mimage_out\u001b[0m\u001b[1;33m}\u001b[0m\u001b[1;33m,\u001b[0m \u001b[0margs_out\u001b[0m\u001b[1;33m)\u001b[0m\u001b[1;33m\u001b[0m\u001b[0m\n\u001b[0;32m     34\u001b[0m         \u001b[1;32mif\u001b[0m \u001b[0mhasattr\u001b[0m\u001b[1;33m(\u001b[0m\u001b[0mself\u001b[0m\u001b[1;33m,\u001b[0m \u001b[1;34m'_poshooks'\u001b[0m\u001b[1;33m)\u001b[0m\u001b[1;33m:\u001b[0m\u001b[1;33m\u001b[0m\u001b[0m\n",
      "\u001b[1;32m/home/nikasa/digit_recognition/processor.pyc\u001b[0m in \u001b[0;36m_process\u001b[1;34m(self, image, **args)\u001b[0m\n\u001b[0;32m    103\u001b[0m \u001b[1;33m\u001b[0m\u001b[0m\n\u001b[0;32m    104\u001b[0m     \u001b[1;32mdef\u001b[0m \u001b[0m_process\u001b[0m\u001b[1;33m(\u001b[0m \u001b[0mself\u001b[0m\u001b[1;33m,\u001b[0m \u001b[0mimage\u001b[0m\u001b[1;33m,\u001b[0m \u001b[1;33m**\u001b[0m\u001b[0margs\u001b[0m \u001b[1;33m)\u001b[0m\u001b[1;33m:\u001b[0m\u001b[1;33m\u001b[0m\u001b[0m\n\u001b[1;32m--> 105\u001b[1;33m         \u001b[0mimage\u001b[0m \u001b[1;33m=\u001b[0m \u001b[0mimage\u001b[0m\u001b[1;33m.\u001b[0m\u001b[0mcopy\u001b[0m\u001b[1;33m(\u001b[0m\u001b[1;33m)\u001b[0m\u001b[1;33m\u001b[0m\u001b[0m\n\u001b[0m\u001b[0;32m    106\u001b[0m         \u001b[1;31m#if (image.shape[0] <= self.maxWidth) or (image.shape[1] <= self.maxHeight):\u001b[0m\u001b[1;33m\u001b[0m\u001b[1;33m\u001b[0m\u001b[0m\n\u001b[0;32m    107\u001b[0m         \u001b[1;31m#    return (image, args)\u001b[0m\u001b[1;33m\u001b[0m\u001b[1;33m\u001b[0m\u001b[0m\n",
      "\u001b[1;31mAttributeError\u001b[0m: 'NoneType' object has no attribute 'copy'"
     ]
    }
   ],
   "source": [
    "%matplotlib inline\n",
    "%reload_ext autoreload\n",
    "%autoreload 2\n",
    "import os\n",
    "\n",
    "from files import ImageFile\n",
    "from processor import (GrayScaleProcessor, BlurProcessor, SobelProcessor, \n",
    "                       ThresholdProcessor, MorphologyProcessor, HistogramEqualizationProcessor,\n",
    "                      CannyProcessor, ScaleProcessor, HoughLinesProcessor,\n",
    "                      SaveImageProcessor, InvertProcessor, RetrieveImageProcessor)\n",
    "from segment_processor import (HierarchyContourSegmenter, LargeSegmentFilter, \n",
    "                               SmallSegmentFilter, LargeAreaSegmentFilter, ContainedSegmentFilter, UniqueSegmentFilter,\n",
    "                              RatioSegmentFilter)\n",
    "from feature_extractor import (SimpleFeatureExtractor, ThreeChannelsFeatureExtractor)\n",
    "from segment_classifier import DeepCnnSegmentClassifier, CnnSegmentClassifier, DeepCnnSigmoidSegmentClassifier, DeepBNCnnSegmentClassifier\n",
    "from processor_stack import ProcessorStack\n",
    "from power_number_reader import PowerNumberReader\n",
    "\n",
    "import cv2\n",
    "import itertools\n",
    "import numpy as np\n",
    "import time\n",
    "adaptiveBlockSizes = [9, 17, 31]\n",
    "#erodes = [3, 7]\n",
    "#dilates = [3]\n",
    "erodes = [(0, 0), (3, 3), (3, 3), (5, 5), (7, 7)]\n",
    "dilates = [(0, 0),(3, 3), (7, 3), (5, 3), (7, 3)]\n",
    "test_image= ImageFile('Brad meter 1')\n",
    "#test_image= ImageFile('Brad meter 2')\n",
    "#test_image= ImageFile('Davide take 1')\n",
    "#test_image= ImageFile('Davide take 2')\n",
    "#test_image= ImageFile('Erik') #Hard set adaptiveBlockSize=9 to catch digits\n",
    "#test_image= ImageFile('Gro') #Impossible\n",
    "#test_image= ImageFile('Hans Martin') #quite Hard\n",
    "#test_image= ImageFile('Knut G')\n",
    "#test_image= ImageFile('Ole auto')\n",
    "#test_image= ImageFile('Ole blitz ikke')\n",
    "#test_image= ImageFile('Ole blitz')\n",
    "#test_image= ImageFile('Ole liggende')\n",
    "#test_image= ImageFile('Roy') #small picture, need to scale\n",
    "#test_image= ImageFile('Sven Erik close up')\n",
    "#test_image= ImageFile('Sven Erik')\n",
    "#test_image= ImageFile('Thomas') #Digital\n",
    "\n",
    "#test_image= ImageFile('downloaded/139889743') \n",
    "#test_image= ImageFile('downloaded/LeckyMeterDavidSillitoe460') \n",
    "\n",
    "#test_image= ImageFile('downloaded/metric meter') #Hard\n",
    "\n",
    "#test_image= ImageFile('downloaded/Electric-Meter') \n",
    "#test_image= ImageFile('downloaded/sangamo_meter') \n",
    "#test_image= ImageFile('test/meter1') \n",
    "#test_image= ImageFile('test/meter2') \n",
    "#test_image= ImageFile('test/4-cropped') #image too small issue \n",
    "#test_image = ImageFile('test/8Cmhx')\n",
    "#test_image = ImageFile('test/40A_ferranti_meter')\n",
    "#test_image = ImageFile('test/87bf22d8-4722-46f6-a76b-2c3775ceee14')\n",
    "\n",
    "#test_image = ImageFile('test/106_6929')\n",
    "\n",
    "#test_image = ImageFile('test/300px-ThreePhaseElectricityMeter')\n",
    "\n",
    "#test_image = ImageFile('test/1112-water-meter-p')\n",
    "\n",
    "#test_image = ImageFile('test/001422601')\n",
    "\n",
    "#test_image = ImageFile('test/6024681_orig')\n",
    "#test_image = ImageFile('test/electric-meter-dials-8523374')\n",
    "#test_image = ImageFile('test/pl2217273-intelligent_small_din_rail_kwh_meter_digital_electricity_meter_1_phase_2_wire') #white bg\n",
    "#test_image = ImageFile('test/Landis_&_Gyr_3_rate_electromechanical_meter._Type_CG1t')#3 lines\n",
    "#test_image = ImageFile('test/single-phase-induction-kilo-watt-hour-meter')\n",
    "def detect_digits(image):\n",
    "    segments = np.empty( shape=(0, 0) )\n",
    "    for adaptiveBlockSize, ((erode_x, erode_y), (dilate_x, dilate_y))  in itertools.product(adaptiveBlockSizes, zip(erodes, dilates)):\n",
    "        digitDetectorStack = [ScaleProcessor(maxHeight=800, maxWidth=800),\n",
    "             SaveImageProcessor(),\n",
    "             GrayScaleProcessor(),\n",
    "             BlurProcessor(blur_x=5, blur_y=5),\n",
    "             HistogramEqualizationProcessor(HistogramEqualizationProcessor.CLAHE),\n",
    "             ThresholdProcessor(ThresholdProcessor.ADAPTIVE, adaptiveBlockSize=adaptiveBlockSize), # 31 for normal. Change this to catch digits!\n",
    "             MorphologyProcessor(shape=cv2.MORPH_RECT, ksize=(erode_x, erode_y), op = MorphologyProcessor.ERODE), #Change this\n",
    "             MorphologyProcessor(shape=cv2.MORPH_RECT, ksize=(dilate_x, dilate_y), op = MorphologyProcessor.DILATE),\n",
    "             HierarchyContourSegmenter(),\n",
    "             RetrieveImageProcessor(),\n",
    "             LargeSegmentFilter(min_width=4, min_height=13),\n",
    "             SmallSegmentFilter(max_width=100, max_height=200),\n",
    "             LargeAreaSegmentFilter(min_area = 120),\n",
    "             RatioSegmentFilter(min_h_w_ratio = 1, max_h_w_ratio = 4.5)\n",
    "             ] \n",
    "        digitDetector = ProcessorStack(digitDetectorStack)\n",
    "        digitDetector.process(image)\n",
    "        #digitDetector.display()\n",
    "        output = digitDetector.get_output()\n",
    "        if len(segments) == 0:\n",
    "            segments = output['segments']\n",
    "            image = output['originalImg']\n",
    "        else:\n",
    "            segments = np.concatenate((segments, output['segments']), axis = 0)\n",
    "    \n",
    "    print segments.shape\n",
    "    print 'Done Segmentation!'\n",
    "    \n",
    "    segmentFilterStack = [UniqueSegmentFilter(threshold = 0.7),\n",
    "                          ThreeChannelsFeatureExtractor(feature_size=32, extension = 4, #good number 4 pixel #Should set this as percentage of batch\n",
    "                                                        method=ThreeChannelsFeatureExtractor.PAD_BACKGROUND ,display_features = False),\n",
    "                          #CnnSegmentClassifier(trained_network_file='mode_cnn_5x5_430itr_manual_rotation_digit_detector.npz', n_output = 2),\n",
    "                          #DigitRelevantSegmentFilter(),\n",
    "                          #DeepCnnSegmentClassifier(trained_network_file='model_deep_cnn_3x3_30itr_new_svhn_manual_rotation.npz', n_output = 11),\n",
    "                          #DeepCnnSigmoidSegmentClassifier(trained_network_file='model_deep_cnn_sigmoid_output_30itrs_svhn_manual_rotation.npz', n_output = 11),#good\n",
    "                          \n",
    "                          #DeepCnnSegmentClassifier(trained_network_file='model_deep_cnn_3x3_20itr_new_svhn_manual_rotation.npz', n_output = 2),\n",
    "                          DeepBNCnnSegmentClassifier(trained_network_file='model_deep_BN_cnn_18itr_1.5Mdataset.npz', n_output = 11),\n",
    "                          PowerNumberReader(bank_extension = 0, \n",
    "                                          bank_cut_off_ratio = 0.3, \n",
    "                                          height_error_acceptance = 0.7, \n",
    "                                          distance_error_acceptance = 0.3,\n",
    "                                          residual_threshold = 0.085),\n",
    "                         ]\n",
    "    segmentFilter = ProcessorStack(segmentFilterStack)\n",
    "    segmentFilter.process(image, segments = segments)\n",
    "    return segmentFilter\n",
    "    \n",
    "test_image = cv2.imread('C:/Users/k/Google Drive/eSmart/Experiment/DigitRecognition/digit_recognition/Fail Images/201612-1454432228873.jpg')\n",
    "detect_digits(test_image).display()\n",
    "print 'Done'\n",
    "continue_from_file = 'Davide take 2.jpg'\n",
    "continue_from_file = 'Ole blitz.jpg'\n",
    "continue_from_file = 'Ole liggende.jpg'\n",
    "\n",
    "#continue_from_file = 'electricity-meter-picture.jpg'\n",
    "#continue_from_file = 'electromechanical_meter_img.jpg'\n",
    "#continue_from_file = 'ge-watt-hour-meter.jpg'\n",
    "\n",
    "is_processed = False\n",
    "for root, dirs, files in os.walk(\"data\"):\n",
    "    for file in files:\n",
    "        print file\n",
    "        if file.endswith(continue_from_file):\n",
    "            is_processed = False\n",
    "            print 'OK'\n",
    "        if not is_processed:\n",
    "            if file.lower().endswith(('.png','.tif','.jpg', '.jpeg')):\n",
    "                start = time.time()\n",
    "                image = cv2.imread(os.path.join(root, file))\n",
    "                cv2.namedWindow( \"Original\", cv2.WINDOW_AUTOSIZE );\n",
    "                cv2.imshow( \"Original\", image );       \n",
    "                segmentFilter = detect_digits(image)\n",
    "                end = time.time()\n",
    "                print \"Total time: \", end-start\n",
    "                segmentFilter.display()"
   ]
  },
  {
   "cell_type": "code",
   "execution_count": null,
   "metadata": {
    "collapsed": false,
    "scrolled": true
   },
   "outputs": [],
   "source": [
    "output = segmentFilter.get_output()\n",
    "segments = output['segments']\n",
    "segment_types = output['segment_types']\n",
    "regions = output['regions']\n",
    "\n",
    "from power_number_reader import PowerNumberReader\n",
    "powerReaderStack = [PowerNumberReader(bank_extension = 0, \n",
    "                                      bank_cut_off_ratio = 0.8, \n",
    "                                      height_error_acceptance = 0.7, \n",
    "                                      distance_error_acceptance = 0.4),]\n",
    "powerReader = ProcessorStack(powerReaderStack)\n",
    "powerReader.process(image, segments = segments, segment_types = segment_types, regions = regions)\n",
    "powerReader.display()"
   ]
  },
  {
   "cell_type": "code",
   "execution_count": null,
   "metadata": {
    "collapsed": false
   },
   "outputs": [],
   "source": [
    "np.savetxt(\"prediction.csv\", prediction, delimiter=\",\")"
   ]
  },
  {
   "cell_type": "code",
   "execution_count": null,
   "metadata": {
    "collapsed": false
   },
   "outputs": [],
   "source": [
    "a = []\n",
    "a.append(1)"
   ]
  },
  {
   "cell_type": "code",
   "execution_count": null,
   "metadata": {
    "collapsed": false
   },
   "outputs": [],
   "source": [
    "import numpy\n",
    "xs = numpy.asarray([1,2,3, 4, 5, 7])\n",
    "ys = numpy.asarray([1,3,2, 4, 5, 7])\n",
    "a = numpy.polyfit(xs, ys, deg=1, full=True)\n",
    "print(xs[xs>3])"
   ]
  },
  {
   "cell_type": "code",
   "execution_count": null,
   "metadata": {
    "collapsed": false
   },
   "outputs": [],
   "source": [
    "segmentFilter.display()\n"
   ]
  },
  {
   "cell_type": "code",
   "execution_count": null,
   "metadata": {
    "collapsed": false
   },
   "outputs": [],
   "source": [
    "zip([(1,2), (2,3)], [(3,2), (2, 1)])"
   ]
  },
  {
   "cell_type": "code",
   "execution_count": null,
   "metadata": {
    "collapsed": true
   },
   "outputs": [],
   "source": []
  }
 ],
 "metadata": {
  "kernelspec": {
   "display_name": "Python 2",
   "language": "python",
   "name": "python2"
  },
  "language_info": {
   "codemirror_mode": {
    "name": "ipython",
    "version": 2
   },
   "file_extension": ".py",
   "mimetype": "text/x-python",
   "name": "python",
   "nbconvert_exporter": "python",
   "pygments_lexer": "ipython2",
   "version": "2.7.11"
  }
 },
 "nbformat": 4,
 "nbformat_minor": 0
}
