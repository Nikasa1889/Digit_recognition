{
 "cells": [
  {
   "cell_type": "code",
   "execution_count": 1,
   "metadata": {
    "collapsed": false
   },
   "outputs": [
    {
     "name": "stdout",
     "output_type": "stream",
     "text": [
      "showing after ScaleProcessor (waiting for input)\n",
      "showing after GrayScaleProcessor (waiting for input)\n",
      "showing after BlurProcessor (waiting for input)\n",
      "showing after HistogramEqualizationProcessor (waiting for input)\n",
      "showing after ThresholdProcessor (waiting for input)\n",
      "showing after MorphologyProcessor (waiting for input)\n",
      "showing after MorphologyProcessor (waiting for input)\n",
      "showing segments filtered by HierarchyContourSegmenter (waiting for input)\n",
      "showing segments filtered by LargeSegmentFilter (waiting for input)\n",
      "showing segments filtered by SmallSegmentFilter (waiting for input)\n",
      "Finish displaying ProcessorStack result, waiting for input\n"
     ]
    }
   ],
   "source": [
    "%matplotlib inline\n",
    "%reload_ext autoreload\n",
    "%autoreload 2\n",
    "\n",
    "from files import ImageFile\n",
    "from processor import (GrayScaleProcessor, BlurProcessor, SobelProcessor, \n",
    "                       ThresholdProcessor, MorphologyProcessor, HistogramEqualizationProcessor,\n",
    "                      CannyProcessor, ScaleProcessor, HoughLinesProcessor,\n",
    "                      SaveImageProcessor, InvertProcessor, RetrieveImageProcessor)\n",
    "from segment_processor import (HierarchyContourSegmenter, LargeSegmentFilter, \n",
    "                               SmallSegmentFilter, LargeAreaSegmentFilter, ContainedSegmentFilter)\n",
    "from feature_extractor import (SimpleFeatureExtractor)\n",
    "from processor_stack import ProcessorStack\n",
    "import cv2\n",
    "digitDetectorStack = [ScaleProcessor(maxHeight=800, maxWidth=800),\n",
    "         SaveImageProcessor(),\n",
    "         GrayScaleProcessor(),\n",
    "         BlurProcessor(blur_x=5, blur_y=5),\n",
    "         HistogramEqualizationProcessor(HistogramEqualizationProcessor.CLAHE),\n",
    "         #InvertProcessor(),\n",
    "         #SobelProcessor(xorder=1, yorder=0,ksize=3),\n",
    "         ThresholdProcessor(ThresholdProcessor.ADAPTIVE, adaptiveBlockSize=31), # 31 for normal. Change this to catch digits!\n",
    "         #CannyProcessor(100, 200),\n",
    "         MorphologyProcessor(shape=cv2.MORPH_RECT, ksize=(3, 3), op = MorphologyProcessor.ERODE), #Change this\n",
    "         MorphologyProcessor(shape=cv2.MORPH_RECT, ksize=(3, 3), op = MorphologyProcessor.DILATE),\n",
    "         #HoughLinesProcessor(),\n",
    "         HierarchyContourSegmenter(),\n",
    "         RetrieveImageProcessor(),\n",
    "         LargeSegmentFilter(min_width=0.005, min_height=0.02),\n",
    "         SmallSegmentFilter(max_width=0.15, max_height=0.4),\n",
    "         #LargeAreaSegmentFilter(min_area=0.01),\n",
    "         #ContainedSegmentFilter(),\n",
    "         SimpleFeatureExtractor(feature_size=32, method = SimpleFeatureExtractor.PAD_BACKGROUND),\n",
    "         ] #The best 15/12/2015\n",
    "digitDetector = ProcessorStack(digitDetectorStack)\n",
    "#test_image= ImageFile('PlateCar')\n",
    "#test_image= ImageFile('Brad meter 1')\n",
    "#test_image= ImageFile('Brad meter 2')\n",
    "#test_image= ImageFile('Davide take 1')\n",
    "#test_image= ImageFile('Davide take 2')\n",
    "#test_image= ImageFile('Erik') #Hard set adaptiveBlockSize=9 to catch digits\n",
    "#test_image= ImageFile('Gro') #Impossible\n",
    "#test_image= ImageFile('Hans Martin') #quite Hard\n",
    "#test_image= ImageFile('Knut G')\n",
    "#test_image= ImageFile('Ole auto')\n",
    "#test_image= ImageFile('Ole blitz ikke')\n",
    "#test_image= ImageFile('Ole blitz')\n",
    "#test_image= ImageFile('Ole liggende')\n",
    "#test_image= ImageFile('Roy') #small picture, need to scale\n",
    "#test_image= ImageFile('Sven Erik close up')\n",
    "#test_image= ImageFile('Sven Erik')\n",
    "#test_image= ImageFile('Thomas') #Digital\n",
    "#test_image= ImageFile('Thomas') #Digital\n",
    "test_image= ImageFile('Heidi') #Digital\n",
    "\n",
    "\n",
    "\n",
    "\n",
    "digitDetector.process(test_image.image)\n",
    "digitDetector.display()"
   ]
  },
  {
   "cell_type": "code",
   "execution_count": null,
   "metadata": {
    "collapsed": false
   },
   "outputs": [],
   "source": [
    "import tesseract\n",
    "api = tesseract.TessBaseAPI()\n",
    "api.SetOutputName(\"outputName\");\n",
    "api.Init(\".\",\"eng\",tesseract.OEM_DEFAULT)\n",
    "api.SetPageSegMode(tesseract.PSM_AUTO)\n",
    "mImgFile = \"data/digits1.png\"\n",
    "pixImage=tesseract.pixRead(mImgFile)\n",
    "api.SetImage(pixImage)\n",
    "outText=api.GetUTF8Text()\n",
    "print(\"OCR output:\\n%s\"%outText);\n",
    "api.End()\n"
   ]
  },
  {
   "cell_type": "code",
   "execution_count": null,
   "metadata": {
    "collapsed": true
   },
   "outputs": [],
   "source": [
    "import tesseract\n",
    "api = tesseract.TessBaseAPI()\n",
    "api.Init(\".\",\"eng\",tesseract.OEM_DEFAULT)\n",
    "api.SetVariable(\"tessedit_char_whitelist\", \"0123456789abcdefghijklmnopqrstuvwxyz\")\n",
    "api.SetPageSegMode(tesseract.PSM_AUTO)\n",
    "\n",
    "mImgFile = \"data/digits1.png\"\n",
    "mBuffer=open(mImgFile,\"rb\").read()\n",
    "result = tesseract.ProcessPagesBuffer(mBuffer,len(mBuffer),api)\n",
    "print \"result(ProcessPagesBuffer)=\",result\n",
    "api.End()\n"
   ]
  },
  {
   "cell_type": "code",
   "execution_count": null,
   "metadata": {
    "collapsed": false
   },
   "outputs": [],
   "source": [
    "import tesseract\n",
    "import cv2\n",
    "import cv2.cv as cv\n",
    "\n",
    "image0=cv2.imread(\"data/digits1.png\")\n",
    "#### you may need to thicken the border in order to make tesseract feel happy to ocr your image #####\n",
    "offset=20\n",
    "height,width,channel = image0.shape\n",
    "image1=cv2.copyMakeBorder(image0,offset,offset,offset,offset,cv2.BORDER_CONSTANT,value=(255,255,255)) \n",
    "cv2.namedWindow(\"Test\")\n",
    "cv2.imshow(\"Test\", image1)\n",
    "cv2.waitKey(0)\n",
    "cv2.destroyWindow(\"Test\")\n",
    "#####################################################################################################\n",
    "api = tesseract.TessBaseAPI()\n",
    "api.Init(\".\",\"eng\",tesseract.OEM_DEFAULT)\n",
    "api.SetPageSegMode(tesseract.PSM_AUTO)\n",
    "height1,width1,channel1=image1.shape\n",
    "print image1.shape\n",
    "print image1.dtype.itemsize\n",
    "width_step = width*image1.dtype.itemsize\n",
    "print width_step\n",
    "#method 1 \n",
    "iplimage = cv.CreateImageHeader((width1,height1), cv.IPL_DEPTH_8U, channel1)\n",
    "cv.SetData(iplimage, image1.tostring(),image1.dtype.itemsize * channel1 * (width1))\n",
    "tesseract.SetCvImage(iplimage,api)\n",
    "\n",
    "text=api.GetUTF8Text()\n",
    "conf=api.MeanTextConf()\n",
    "image=None\n",
    "print \"...............\"\n",
    "print \"Ocred Text: %s\"%text\n",
    "print \"Cofidence Level: %d %%\"%conf\n",
    "\n",
    "#method 2:\n",
    "#cvmat_image=cv.fromarray(image1)\n",
    "#iplimage =cv.GetImage(cvmat_image)\n",
    "#print iplimage\n",
    "\n",
    "#tesseract.SetCvImage(iplimage,api)\n",
    "#api.SetImage(m_any,width,height,channel1)\n",
    "#text=api.GetUTF8Text()\n",
    "#conf=api.MeanTextConf()\n",
    "#image=None\n",
    "#print \"...............\"\n",
    "#print \"Ocred Text: %s\"%text\n",
    "#print \"Cofidence Level: %d %%\"%conf\n",
    "api.End()\n"
   ]
  },
  {
   "cell_type": "code",
   "execution_count": 7,
   "metadata": {
    "collapsed": false
   },
   "outputs": [
    {
     "name": "stdout",
     "output_type": "stream",
     "text": [
      "[[ 1.          0.8         0.5785124   0.56692913]\n",
      " [ 0.8         1.          0.69306931  0.55652174]\n",
      " [ 0.5785124   0.69306931  1.          0.68141593]\n",
      " [ 0.56692913  0.55652174  0.68141593  1.        ]]\n",
      "[[ 1.          0.          0.          0.        ]\n",
      " [ 0.8         1.          0.69306931  0.55652174]\n",
      " [ 0.5785124   0.          1.          0.68141593]\n",
      " [ 0.56692913  0.          0.          1.        ]]\n",
      "[[100 100 100 100]\n",
      " [ 80  80  80  80]\n",
      " [ 91  91  91  91]\n",
      " [ 99  99  99  99]]\n",
      "[[100   0   0   0]\n",
      " [100  80   0   0]\n",
      " [100  80  91   0]\n",
      " [100  80  91  99]]\n",
      "[[ 0.          0.          0.          0.        ]\n",
      " [ 0.8         0.          0.69306931  0.55652174]\n",
      " [ 0.5785124   0.          0.          0.68141593]\n",
      " [ 0.56692913  0.          0.          0.        ]]\n",
      "[[ 0.          0.          0.          0.        ]\n",
      " [ 1.          0.          0.69306931  0.55652174]\n",
      " [ 0.5785124   0.          0.          0.68141593]\n",
      " [ 0.56692913  0.          0.          0.        ]]\n",
      "[ 0.          1.          0.68141593  0.56692913]\n",
      "[ True False  True  True]\n"
     ]
    }
   ],
   "source": [
    "import numpy\n",
    "segments = numpy.asarray([[0, 0, 10, 10], [0, 0, 10, 8], [0, 0, 13, 7], [2, 0, 11, 9]])\n",
    "x1,y1= segments[:,0], segments[:,1]\n",
    "x2,y2= x1+segments[:,2], y1+segments[:,3]\n",
    "s = segments[:, 2] * segments[:, 3]\n",
    "n=len(segments)\n",
    "\n",
    "x1.shape = x2.shape = y1.shape = y2.shape = s.shape = (n, 1)\n",
    "X1 = numpy.repeat(x1, n, 1)\n",
    "X2 = numpy.repeat(x2, n, 1)\n",
    "Y1 = numpy.repeat(y1, n, 1)\n",
    "Y2 = numpy.repeat(y2, n, 1)\n",
    "S  = numpy.repeat(s , n, 1)\n",
    "\n",
    "#overlapping area\n",
    "SI= (numpy.maximum(0, numpy.minimum(X2, X2.T) - numpy.maximum(X1, X1.T) ) *\n",
    "     numpy.maximum(0, numpy.minimum(Y2, Y2.T) - numpy.maximum(Y1, Y1.T)))\n",
    "#union area\n",
    "SU = S + S.T - SI\n",
    "#ratio area\n",
    "ratio = SI/SU.astype(float)\n",
    "\n",
    "print (ratio)\n",
    "#remove ratio which compare a segment with a bigger segment\n",
    "ratio[S>S.T] = 0\n",
    "print (ratio)\n",
    "#deal with equal area segments\n",
    "print(S)\n",
    "ST0 = numpy.tril(S.T)\n",
    "print (ST0)\n",
    "ratio[S==ST0] = 0\n",
    "print (ratio)\n",
    "ratio[ratio>=0.8] = 1\n",
    "print (ratio)\n",
    "uniques = numpy.logical_not (numpy.amax(ratio, axis = 1) == 1)\n",
    "print (numpy.amax(ratio, axis = 1))\n",
    "print (uniques)"
   ]
  },
  {
   "cell_type": "code",
   "execution_count": 10,
   "metadata": {
    "collapsed": false
   },
   "outputs": [
    {
     "name": "stdout",
     "output_type": "stream",
     "text": [
      "[1 2 3 4 0 0]\n"
     ]
    }
   ],
   "source": [
    "a = numpy.asarray([1,2,3,4,5,6])\n",
    "a[a>4] = 0\n",
    "print a"
   ]
  },
  {
   "cell_type": "code",
   "execution_count": 19,
   "metadata": {
    "collapsed": false
   },
   "outputs": [
    {
     "name": "stdout",
     "output_type": "stream",
     "text": [
      "[ 10.  10.  10.  10.  10.  10.  10.  10.  10.  10.]\n"
     ]
    }
   ],
   "source": [
    "a = numpy.empty(10, dtype = int)\n",
    "a.fill(10)\n",
    "print a"
   ]
  },
  {
   "cell_type": "code",
   "execution_count": 15,
   "metadata": {
    "collapsed": false
   },
   "outputs": [
    {
     "name": "stdout",
     "output_type": "stream",
     "text": [
      "(array([0], dtype=int64), array([1], dtype=int64))\n"
     ]
    }
   ],
   "source": [
    "import numpy\n",
    "a = numpy.asarray([[1,5,3],[4,3,6]])\n",
    "b = numpy.asarray([[6,2,2],[1,3,4]])\n",
    "x =  ((a>4) & (b<4)) \n",
    "print numpy.nonzero(x)"
   ]
  },
  {
   "cell_type": "code",
   "execution_count": 6,
   "metadata": {
    "collapsed": false
   },
   "outputs": [
    {
     "name": "stdout",
     "output_type": "stream",
     "text": [
      "2\n"
     ]
    }
   ],
   "source": [
    "a = 11/5\n",
    "print a"
   ]
  },
  {
   "cell_type": "code",
   "execution_count": 12,
   "metadata": {
    "collapsed": false
   },
   "outputs": [
    {
     "ename": "TypeError",
     "evalue": "unsupported operand type(s) for -: 'slice' and 'int'",
     "output_type": "error",
     "traceback": [
      "\u001b[1;31m---------------------------------------------------------------------------\u001b[0m",
      "\u001b[1;31mTypeError\u001b[0m                                 Traceback (most recent call last)",
      "\u001b[1;32m<ipython-input-12-e1b02002e1f4>\u001b[0m in \u001b[0;36m<module>\u001b[1;34m()\u001b[0m\n\u001b[0;32m      1\u001b[0m \u001b[0ma\u001b[0m \u001b[1;33m=\u001b[0m \u001b[0mslice\u001b[0m\u001b[1;33m(\u001b[0m\u001b[1;36m1\u001b[0m\u001b[1;33m,\u001b[0m \u001b[1;36m10\u001b[0m\u001b[1;33m)\u001b[0m\u001b[1;33m\u001b[0m\u001b[0m\n\u001b[1;32m----> 2\u001b[1;33m \u001b[1;32mprint\u001b[0m \u001b[0ma\u001b[0m\u001b[1;33m-\u001b[0m\u001b[1;36m1\u001b[0m\u001b[1;33m\u001b[0m\u001b[0m\n\u001b[0m",
      "\u001b[1;31mTypeError\u001b[0m: unsupported operand type(s) for -: 'slice' and 'int'"
     ]
    }
   ],
   "source": [
    "a = slice(1, 10)"
   ]
  },
  {
   "cell_type": "code",
   "execution_count": null,
   "metadata": {
    "collapsed": true
   },
   "outputs": [],
   "source": []
  }
 ],
 "metadata": {
  "kernelspec": {
   "display_name": "Python 2",
   "language": "python",
   "name": "python2"
  },
  "language_info": {
   "codemirror_mode": {
    "name": "ipython",
    "version": 2
   },
   "file_extension": ".py",
   "mimetype": "text/x-python",
   "name": "python",
   "nbconvert_exporter": "python",
   "pygments_lexer": "ipython2",
   "version": "2.7.11"
  }
 },
 "nbformat": 4,
 "nbformat_minor": 0
}
