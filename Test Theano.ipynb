{
 "cells": [
  {
   "cell_type": "code",
   "execution_count": 1,
   "metadata": {
    "collapsed": false
   },
   "outputs": [
    {
     "name": "stdout",
     "output_type": "stream",
     "text": [
      "('blas.ldflags=', '-L/home/nikasa/anaconda2/lib -lmkl_intel_lp64 -lmkl_intel_thread -lmkl_core -liomp5 -lpthread -lm -lm -Wl,-rpath,/home/nikasa/anaconda2/lib')\n",
      "NP time: 0.171745[s], theano time: 0.207018[s] (times should be close when run on CPU!)\n",
      "Result difference: 0.000000\n"
     ]
    }
   ],
   "source": [
    "import numpy as np\n",
    "import time\n",
    "import theano\n",
    "\n",
    "print('blas.ldflags=', theano.config.blas.ldflags)\n",
    "\n",
    "A = np.random.rand(1000, 10000).astype(theano.config.floatX)\n",
    "B = np.random.rand(10000, 1000).astype(theano.config.floatX)\n",
    "np_start = time.time()\n",
    "AB = A.dot(B)\n",
    "np_end = time.time()\n",
    "X, Y = theano.tensor.matrices('XY')\n",
    "mf = theano.function([X, Y], X.dot(Y))\n",
    "t_start = time.time()\n",
    "tAB = mf(A, B)\n",
    "t_end = time.time()\n",
    "print(\"NP time: %f[s], theano time: %f[s] (times should be close when run on CPU!)\" % (\n",
    "np_end - np_start, t_end - t_start))\n",
    "print(\"Result difference: %f\" % (np.abs(AB - tAB).max(), ))\n",
    "\n"
   ]
  },
  {
   "cell_type": "code",
   "execution_count": null,
   "metadata": {
    "collapsed": false
   },
   "outputs": [],
   "source": [
    "import sys\n",
    "print (sys.version)"
   ]
  },
  {
   "cell_type": "code",
   "execution_count": null,
   "metadata": {
    "collapsed": false
   },
   "outputs": [],
   "source": [
    "from theano import function, config, shared, sandbox\n",
    "import theano.tensor as T\n",
    "import numpy\n",
    "import time\n",
    "\n",
    "vlen = 10 * 30 * 768  # 10 x #cores x # threads per core\n",
    "iters = 1000\n",
    "\n",
    "rng = numpy.random.RandomState(22)\n",
    "x = shared(numpy.asarray(rng.rand(vlen), config.floatX))\n",
    "f = function([], T.exp(x))\n",
    "print(f.maker.fgraph.toposort())\n",
    "t0 = time.time()\n",
    "for i in xrange(iters):\n",
    "    r = f()\n",
    "t1 = time.time()\n",
    "print(\"Looping %d times took %f seconds\" % (iters, t1 - t0))\n",
    "print(\"Result is %s\" % (r,))\n",
    "if numpy.any([isinstance(x.op, T.Elemwise) for x in f.maker.fgraph.toposort()]):\n",
    "    print('Used the cpu')\n",
    "else:\n",
    "    print('Used the gpu')\n"
   ]
  },
  {
   "cell_type": "code",
   "execution_count": 41,
   "metadata": {
    "collapsed": false
   },
   "outputs": [
    {
     "name": "stdout",
     "output_type": "stream",
     "text": [
      "[[[[ 1.  0.  2.  3.]\n",
      "   [ 2.  1.  1.  0.]\n",
      "   [ 0.  0.  1.  2.]\n",
      "   [ 2.  3.  1.  0.]]]]\n",
      "[[[[ 1.  2.  1.]\n",
      "   [ 1.  0.  1.]\n",
      "   [ 0.  2.  1.]]]]\n",
      "[[[[ 5.]]]]\n",
      "[[[[  5.  15.  10.   0.]\n",
      "   [ 10.  20.  15.   5.]\n",
      "   [ 10.  20.  20.  10.]\n",
      "   [  5.  15.  15.   5.]]]]\n",
      "[[[[ 130.]]]]\n"
     ]
    },
    {
     "name": "stderr",
     "output_type": "stream",
     "text": [
      "DEBUG: nvcc STDOUT mod.cu\r\n",
      "   Creating library C:/Users/k/AppData/Local/Theano/compiledir_Windows-7-6.1.7600-SP0-Intel64_Family_6_Model_60_Stepping_3_GenuineIntel-2.7.11-64/tmp1mx_hy/f95c7354fe40c8eead82d6e815994d98.lib and object C:/Users/k/AppData/Local/Theano/compiledir_Windows-7-6.1.7600-SP0-Intel64_Family_6_Model_60_Stepping_3_GenuineIntel-2.7.11-64/tmp1mx_hy/f95c7354fe40c8eead82d6e815994d98.exp\r\n",
      "\n"
     ]
    }
   ],
   "source": [
    "##Deconvolutional\n",
    "import theano\n",
    "import theano.tensor as T\n",
    "import numpy as np\n",
    "\n",
    "xfilter = np.asarray([[1,2,1],[1,0,1],[0,2,1]]).astype('float32')\n",
    "xfilter = np.expand_dims(xfilter, axis=0)\n",
    "xfilter = np.expand_dims(xfilter, axis=0)\n",
    "\n",
    "filters = theano.shared(xfilter)\n",
    "\n",
    "inp1 = T.tensor4(dtype='float32')\n",
    "\n",
    "subsampled_convolution = T.nnet.conv2d(inp1, filters, border_mode='valid', subsample=(2, 2))\n",
    "\n",
    "inp2 = T.tensor4(dtype='float32')\n",
    "shp = inp2.shape\n",
    "upsample = T.zeros((shp[0], shp[1], shp[2]*2, shp[3]*2), dtype=inp2.dtype)\n",
    "upsample = T.set_subtensor(upsample[:, :, :2, :2], inp2)\n",
    "upsampled_convolution = T.nnet.conv2d(upsample,\n",
    "     filters.dimshuffle(1, 0, 2, 3)[:, :, ::-1, ::-1], border_mode='full')\n",
    "\n",
    "f1 = theano.function([inp1], subsampled_convolution)\n",
    "f2 = theano.function([inp2], upsampled_convolution)\n",
    "\n",
    "x = np.asarray([[1,0,2,3,2],[2,1,1,0,1],[0,0,1,2,3],[2,3,1,0,2],[3,2,1,0,2]]).astype(np.float32)\n",
    "x = np.expand_dims(x, axis=0)\n",
    "x = np.expand_dims(x, axis=0)\n",
    "\n",
    "f1x = f1(x)\n",
    "y = f1x#np.random.randn(*f1x.shape).astype(np.float32)\n",
    "f2y = f2(y)\n",
    "\n",
    "#p1 = np.dot(f1x.ravel(), y.ravel())\n",
    "#p2 = np.dot(x.ravel(), f2y[:, :, :, ::-1].ravel())\n",
    "\n",
    "#print p1 - p2\n",
    "print x\n",
    "print xfilter\n",
    "print f1x\n",
    "print f2y\n",
    "x = f2y\n",
    "f1x = f1(x)\n",
    "print f1x\n",
    "#p1 = np.dot(f1x.ravel(), y.ravel())\n",
    "#p2 = np.dot(x.ravel(), f2y.ravel())\n"
   ]
  },
  {
   "cell_type": "code",
   "execution_count": 3,
   "metadata": {
    "collapsed": false
   },
   "outputs": [],
   "source": [
    "xfilter = np.asarray([[1,2,1],[1,0,1],[0,2,1]]).astype('float32')\n",
    "xfilter = np.expand_dims(xfilter, axis=0)\n",
    "xfilter = np.expand_dims(xfilter, axis=0)\n",
    "\n",
    "x = np.asarray([[1,0,2,3],[2,1,1,0],[0,0,1,2],[2,3,1,0]]).astype(np.float32)\n",
    "x = np.expand_dims(x, axis=0)\n",
    "x = np.expand_dims(x, axis=0)\n"
   ]
  },
  {
   "cell_type": "code",
   "execution_count": 12,
   "metadata": {
    "collapsed": false
   },
   "outputs": [
    {
     "name": "stdout",
     "output_type": "stream",
     "text": [
      "5 9 14 10\n"
     ]
    }
   ],
   "source": [
    "x = np.asarray([1,2,0,1,0,1,1,2,1])\n",
    "a1 = np.asarray([1,0,2,2,1,1,0,0,1])\n",
    "a2 = np.asarray([0,2,3,1,1,0,0,1,2])\n",
    "a3 = np.asarray([2,1,1,0,0,1,2,3,1])\n",
    "a4 = np.asarray([1,1,0,0,1,2,3,1,0])\n",
    "print np.dot(x, a1), np.dot(x,a2), np.dot(x, a3), np.dot(x, a4)\n"
   ]
  },
  {
   "cell_type": "code",
   "execution_count": null,
   "metadata": {
    "collapsed": true
   },
   "outputs": [],
   "source": []
  }
 ],
 "metadata": {
  "kernelspec": {
   "display_name": "Python 2",
   "language": "python",
   "name": "python2"
  },
  "language_info": {
   "codemirror_mode": {
    "name": "ipython",
    "version": 2
   },
   "file_extension": ".py",
   "mimetype": "text/x-python",
   "name": "python",
   "nbconvert_exporter": "python",
   "pygments_lexer": "ipython2",
   "version": "2.7.11"
  }
 },
 "nbformat": 4,
 "nbformat_minor": 0
}
