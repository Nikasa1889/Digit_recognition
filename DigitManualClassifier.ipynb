{
 "cells": [
  {
   "cell_type": "code",
   "execution_count": null,
   "metadata": {
    "collapsed": false,
    "scrolled": false
   },
   "outputs": [],
   "source": [
    "%matplotlib inline\n",
    "%reload_ext autoreload\n",
    "%autoreload 2\n",
    "import os\n",
    "\n",
    "from files import ImageFile\n",
    "from processor import (GrayScaleProcessor, BlurProcessor, SobelProcessor, \n",
    "                       ThresholdProcessor, MorphologyProcessor, HistogramEqualizationProcessor,\n",
    "                      CannyProcessor, ScaleProcessor, HoughLinesProcessor,\n",
    "                      SaveImageProcessor, InvertProcessor, RetrieveImageProcessor)\n",
    "from segment_processor import (HierarchyContourSegmenter, LargeSegmentFilter, \n",
    "                               SmallSegmentFilter, LargeAreaSegmentFilter, ContainedSegmentFilter, UniqueSegmentFilter,\n",
    "                              RatioSegmentFilter)\n",
    "from feature_extractor import (SimpleFeatureExtractor, ThreeChannelsFeatureExtractor)\n",
    "from segment_classifier import ManualSegmentClassifier, DeepCnnSegmentClassifier\n",
    "from processor_stack import ProcessorStack\n",
    "import cv2\n",
    "import itertools\n",
    "import numpy as np\n",
    "\n",
    "#test_image= ImageFile('PlateCar')\n",
    "#test_image= ImageFile('Brad meter 1')\n",
    "#test_image= ImageFile('Brad meter 2')\n",
    "#test_image= ImageFile('Davide take 1')\n",
    "#test_image= ImageFile('Davide take 2')\n",
    "#test_image= ImageFile('Erik') #Hard set adaptiveBlockSize=9 to catch digits\n",
    "#test_image= ImageFile('Gro') #Impossible electric2.jpg for erode 5\n",
    "#test_image= ImageFile('Hans Martin') #quite Hard\n",
    "#test_image= ImageFile('Knut G')\n",
    "#test_image= ImageFile('Ole auto')\n",
    "#test_image= ImageFile('Ole blitz ikke')\n",
    "#test_image= ImageFile('Ole blitz')\n",
    "#test_image= ImageFile('Ole liggende')\n",
    "#test_image= ImageFile('Roy') #small picture, need to scale\n",
    "#test_image= ImageFile('Sven Erik close up')\n",
    "#test_image= ImageFile('Sven Erik')\n",
    "#test_image= ImageFile('Thomas') #Digital\n",
    "\n",
    "#test_image= ImageFile('downloaded/139889743') \n",
    "#test_image= ImageFile('downloaded/LeckyMeterDavidSillitoe460') \n",
    "\n",
    "#test_image= ImageFile('downloaded/metric meter') \n",
    "\n",
    "#test_image= ImageFile('downloaded/Electric-Meter') \n",
    "def manual_classify(image):    \n",
    "    adaptiveBlockSizes = [9, 17, 31]\n",
    "    erodes = [(3, 3), (5, 5), (7, 7)]\n",
    "    dilates = [(3, 3), (5, 3), (7, 3)]\n",
    "    segments = np.empty( shape=(0, 0) )\n",
    "\n",
    "    for adaptiveBlockSize, (erode_x, erode_y), (dilate_x, dilate_y)  in itertools.product(adaptiveBlockSizes, erodes, dilates):\n",
    "        digitDetectorStack = [ScaleProcessor(maxHeight=800, maxWidth=800),\n",
    "             SaveImageProcessor(),\n",
    "             GrayScaleProcessor(),\n",
    "             BlurProcessor(blur_x=5, blur_y=5),\n",
    "             HistogramEqualizationProcessor(HistogramEqualizationProcessor.CLAHE),\n",
    "             ThresholdProcessor(ThresholdProcessor.ADAPTIVE, adaptiveBlockSize=adaptiveBlockSize), # 31 for normal. Change this to catch digits!\n",
    "             MorphologyProcessor(shape=cv2.MORPH_RECT, ksize=(erode_x, erode_y), op = MorphologyProcessor.ERODE), #Change this\n",
    "             MorphologyProcessor(shape=cv2.MORPH_RECT, ksize=(dilate_x, dilate_y), op = MorphologyProcessor.DILATE),\n",
    "             HierarchyContourSegmenter(),\n",
    "             RetrieveImageProcessor(),\n",
    "             LargeSegmentFilter(min_width=4, min_height=13),\n",
    "             SmallSegmentFilter(max_width=100, max_height=200),\n",
    "             LargeAreaSegmentFilter(min_area = 120),\n",
    "             RatioSegmentFilter(min_h_w_ratio = 1, max_h_w_ratio = 4)\n",
    "             #ContainedSegmentFilter()\n",
    "        ] \n",
    "        digitDetector = ProcessorStack(digitDetectorStack)\n",
    "        digitDetector.process(image)\n",
    "        output = digitDetector.get_output()\n",
    "        if len(segments) == 0:\n",
    "            segments = output['segments']\n",
    "            image = output['originalImg']\n",
    "        else:\n",
    "            segments = np.concatenate((segments, output['segments']), axis = 0)\n",
    "        #digitDetector.display()\n",
    "    segmentFilterStack = [UniqueSegmentFilter(threshold = 0.6),\n",
    "                          ThreeChannelsFeatureExtractor(feature_size=32, extension = 0, method=ThreeChannelsFeatureExtractor.PAD_BACKGROUND),\n",
    "                          ManualSegmentClassifier()\n",
    "                          ]\n",
    "    segmentFilter = ProcessorStack(segmentFilterStack)\n",
    "    segmentFilter.process(image, segments = segments)\n",
    "    regions = segmentFilter.get_output()['regions']\n",
    "    segment_types = segmentFilter.get_output()['segment_types']\n",
    "    return (regions, segment_types)\n",
    "\n",
    "image = cv2.imread(\"data/Erik.jpg\")\n",
    "image = cv2.imread(\"Fail Images/201612-1454432228873.jpg\")\n",
    "\n",
    "manual_classify(image)\n",
    "\n",
    "continue_from_file = 'Erik.jpg'\n",
    "is_processed = True\n",
    "for root, dirs, files in os.walk(\"data\"):\n",
    "    for file in files:\n",
    "        if file.lower().endswith(continue_from_file):\n",
    "            is_processed = False\n",
    "        if not is_processed:\n",
    "            if file.lower().endswith(('.png','.tif','.jpg', '.jpeg')):\n",
    "                image = cv2.imread(os.path.join(root, file))\n",
    "                #cv2.imshow(\"original\", image, cv2.WINDOW_NORMAL)\n",
    "                print('Classifying file: ', os.path.join(root, file))\n",
    "                regions, labels = manual_classify(image)\n",
    "                np.savez(os.path.join(\"classified\", file), regions=regions, labels = labels)\n",
    "\n",
    "#np.savez(\"Davide_1\", regions=regions, labels = segmentFilter.get_output()['segment_types'])\n",
    "\n",
    "#segmentFilter.display()\n",
    "#digitDetector.display()"
   ]
  },
  {
   "cell_type": "code",
   "execution_count": null,
   "metadata": {
    "collapsed": false
   },
   "outputs": [],
   "source": [
    "#Concat all classified regions\n",
    "X_train = np.empty( shape=(0, 3, 32, 32) )\n",
    "y_train = np.empty( shape=(0,) )\n",
    "for root, dirs, files in os.walk(\"classified\"):\n",
    "    for file in files:\n",
    "        if file.lower().endswith(('.npz')):\n",
    "            with np.load(os.path.join(root, file)) as f:\n",
    "                regions = f['regions']\n",
    "                regions = np.rollaxis(regions, 3, 1)\n",
    "                labels = f['labels']\n",
    "                if len(X_train) == 0:\n",
    "                    X_train = regions\n",
    "                    y_train = labels\n",
    "                else:\n",
    "                    X_train = np.concatenate((X_train, regions), axis = 0)\n",
    "                    y_train = np.concatenate((y_train, labels), axis = 0)\n",
    "                    \n",
    "np.savez(os.path.join(\"classified\", \"total\"), X_train=X_train, y_train = y_train)"
   ]
  },
  {
   "cell_type": "code",
   "execution_count": null,
   "metadata": {
    "collapsed": false
   },
   "outputs": [],
   "source": [
    "#Add flipping and rotating images for non-digit regions\n",
    "import numpy as np\n",
    "import os\n",
    "import cv2\n",
    "with np.load(os.path.join(\"classified\", \"total.npz\")) as f:\n",
    "    X_train = f['X_train']\n",
    "    y_train = f['y_train']\n",
    "\n",
    "non_digits = X_train[y_train == 10]\n",
    "non_digits = np.rollaxis(non_digits, 2, 1)\n",
    "non_digits = np.rollaxis(non_digits, 3, 2)\n",
    "#new_non_digits = np.empty(shape=(0, 32, 32, 3))\n",
    "w, h = 32, 32\n",
    "M1 = cv2.getRotationMatrix2D((w/2, h/2), 90, 1.0)\n",
    "M2 = cv2.getRotationMatrix2D((w/2, h/2), 270, 1.0)\n",
    "\n",
    "new_non_digits = []\n",
    "\n",
    "for non_digit in non_digits:\n",
    "    new_non_digits.append(cv2.flip(non_digit, 1))\n",
    "    new_non_digits.append(cv2.flip(non_digit, -1))\n",
    "    new_non_digits.append(cv2.flip(non_digit, 0))\n",
    "    new_non_digits.append(cv2.warpAffine(non_digit, M1, (w, h)))\n",
    "    new_non_digits.append(cv2.warpAffine(non_digit, M2, (w, h)))\n",
    "    \n",
    "new_non_digits = np.asarray(new_non_digits)\n",
    "print new_non_digits.shape\n",
    "new_non_digits = np.rollaxis(new_non_digits, 3, 1)\n",
    "new_y_non_digits = np.empty(shape=(len(new_non_digits),), dtype = int)\n",
    "new_y_non_digits.fill(10)\n",
    "\n",
    "X_train = np.concatenate((X_train, new_non_digits), axis = 0)\n",
    "y_train = np.concatenate((y_train, new_y_non_digits), axis = 0)\n",
    "np.savez(os.path.join(\"classified\", \"total_add_rotation\"), X_train=X_train, y_train = y_train)"
   ]
  },
  {
   "cell_type": "code",
   "execution_count": null,
   "metadata": {
    "collapsed": false
   },
   "outputs": [],
   "source": [
    "print X_train.shape\n",
    "print y_train.shape\n",
    "print y_train.dtype"
   ]
  },
  {
   "cell_type": "code",
   "execution_count": null,
   "metadata": {
    "collapsed": false
   },
   "outputs": [],
   "source": [
    "#Plot some random images from classified regions\n",
    "%matplotlib inline\n",
    "\n",
    "import random\n",
    "import matplotlib.pyplot as plt\n",
    "import matplotlib.cm as cm\n",
    "def plot_image(img):\n",
    "    x = np.rollaxis(img, 0, 3)\n",
    "    if (x.shape[2] == 1):\n",
    "        x = np.squeeze(x, axis=(2,))\n",
    "        plt.imshow(x, cmap = cm.Greys_r)\n",
    "    else:\n",
    "        plt.imshow(x)\n",
    "    plt.show()\n",
    "\n",
    "def plot_random_image(imgs, target=None, n=10):\n",
    "    indices = random.sample(xrange(0, imgs.shape[0]),  n)\n",
    "    for index in indices:\n",
    "        plot_image(imgs[index, :, :, :])\n",
    "        if target != None:\n",
    "            print target[index]\n",
    "\n",
    "#plot_random_image(X_train[y_train!=10], y_train[y_train!=10],n = 100 )\n",
    "plot_random_image(new_non_digits, new_y_non_digits,n = 100 )\n"
   ]
  },
  {
   "cell_type": "code",
   "execution_count": null,
   "metadata": {
    "collapsed": false
   },
   "outputs": [],
   "source": [
    "import numpy as np\n",
    "segments = np.asarray([[1,2,3,4], [4,3,2,1], [4,5,4,3]])\n",
    "a = segments[np.asarray([False, False, False])]"
   ]
  },
  {
   "cell_type": "code",
   "execution_count": null,
   "metadata": {
    "collapsed": false
   },
   "outputs": [],
   "source": [
    "len(a)"
   ]
  },
  {
   "cell_type": "code",
   "execution_count": null,
   "metadata": {
    "collapsed": true
   },
   "outputs": [],
   "source": []
  }
 ],
 "metadata": {
  "kernelspec": {
   "display_name": "Python 2",
   "language": "python",
   "name": "python2"
  },
  "language_info": {
   "codemirror_mode": {
    "name": "ipython",
    "version": 2
   },
   "file_extension": ".py",
   "mimetype": "text/x-python",
   "name": "python",
   "nbconvert_exporter": "python",
   "pygments_lexer": "ipython2",
   "version": "2.7.11"
  }
 },
 "nbformat": 4,
 "nbformat_minor": 0
}
